{
 "cells": [
  {
   "cell_type": "markdown",
   "metadata": {},
   "source": [
    "# <center>DCM: Problema"
   ]
  },
  {
   "cell_type": "markdown",
   "metadata": {},
   "source": [
    "<justify><b>O problema é dividido em 3 partes:</b>\n",
    "\n",
    "    > Busca pelo caminho mínimo do grafo.\n",
    "    > Bin Packing Problem: Multiplos containers de diferentes tamanhos.\n",
    "    > Decisão de ordenamento de fila."
   ]
  },
  {
   "cell_type": "markdown",
   "metadata": {},
   "source": [
    "## <center>1. Problema do Caminho Mínimo - DCM"
   ]
  },
  {
   "cell_type": "markdown",
   "metadata": {},
   "source": [
    "### Contexto\n",
    "\n",
    "É um problema simples, de busca pelo caminho mais curto em um dado grafo G qualquer.<br>\n",
    "O objetivo é encontrar um caminho que passe pelo maior número de vértices e o menor número de arestas.\n",
    "\n",
    "<i><b>Def.: </b></i>\n",
    "> O problema na teoria dos grafos é encontrar a rota conectada mais curta entre dois pontos ou vértices, ou seja, a soma mínima das arestas em todas as rotas conectadas possíveis entre os dois vértices.\n",
    "\n",
    "Para este tipo de problema, a relevância de parâmetro está atribuída aos pesos das arestas.<br>\n",
    "Uma forma elementar de atribuição é utilizar o conceito de graus dos vértices para atribuir peso a aresta.\n",
    "\n",
    "Com os pesos definidos, é possível executar um algoritmo escolhido que trate do SPP, para termos o caminho indicado."
   ]
  },
  {
   "cell_type": "markdown",
   "metadata": {},
   "source": [
    "### Pré Aplicação\n",
    "\n",
    "#### 1.Vértices e Arestas\n",
    "\n",
    "Para efeitos de aplicação, transformamos os vértices do grafo em equipamentos de interesse de InfraTI.<br>\n",
    "As arestas são definidas pela relação entre esses equipamentos, conforme regras arbitrariamente definidas.\n",
    "\n",
    "#### 2.Peso das Arestas\n",
    "\n",
    "O peso das arestas, serão o valor do grau do vértice destino.<br>\n",
    "A aresta do vértice destino poderá ou não, ter peso = 0. Devido a topologia do grafo.\n",
    "\n",
    "#### 3.Indicação de Caminho\n",
    "\n",
    "Um determinado par de (vértices, arestas) qualquer pode gerar um caminho do grafo.<br>\n",
    "Esse caminho sendo rastreável, deverá ser congelado.\n",
    "\n",
    "#### 4.Restrições\n",
    "\n",
    "1. As regras de hierarquia do grafo são definidas respectivamente por: SN, sigla, SV, SF.\n",
    "2. A SN é fator ilustrativo para integração das informações de gestão e controle, não interfere nos parâmetros da solução técnica (sigla, SV, SF).\n",
    "3. A relação entre sigla, SV e SF é de um digrafo. Apesar de permitir possibilidades de conexão, existe um ordenamento definido para tal.\n",
    "4. Por fatores de risco operacional, a indicação de algum caminho mínimo apenas será realizada se não houver dependência deste com outro caminho qualquer.\n",
    "\n",
    "#### 5.Base de Dados\n",
    "\n",
    "As informações acima (com excessão das restrições) estarão contidas em uma base de dados para consulta.<br>\n",
    "Dessa base de dados, é gerado um dataframe para execução do algoritmo.\n"
   ]
  },
  {
   "cell_type": "markdown",
   "metadata": {},
   "source": [
    "### Aplicação\n",
    "\n",
    "O objetivo é reduzir o grafo através de indicação do caminho mínimo dado por um algoritmo selecionado.<br>\n",
    "Conforme as restrições do problema, é necessário antes de tudo buscar em todo grafo, os caminhos elegíveis a serem descomissionados.\n",
    "\n",
    "Para P, todos os caminhos, p serão os subcaminhos elegíveis.<br>\n",
    "Obtendo o conjunto p, executaremos um algoritmo de otimização de SPP.\n",
    "\n",
    "#### PseudoAlgoritmo:\n",
    "\n",
    "   function Dijkstra(Graph, source):\n",
    " \n",
    "       create vertex set Q\n",
    " \n",
    "       for each vertex v in Graph:            \n",
    "           dist[v] ← INFINITY                 \n",
    "           prev[v] ← UNDEFINED                \n",
    "           add v to Q                     \n",
    "       dist[source] ← 0                       \n",
    "     \n",
    "       while Q is not empty:\n",
    "           u ← vertex in Q with min dist[u]   \n",
    "                                             \n",
    "           remove u from Q\n",
    "         \n",
    "           for each neighbor v of u still in Q:\n",
    "               alt ← dist[u] + length(u, v)\n",
    "               if alt < dist[v]:              \n",
    "                   dist[v] ← alt\n",
    "                   prev[v] ← u\n",
    "\n",
    "       return dist[], prev[]\n",
    "       \n",
    "       \n",
    "O caminho indicado entrará em uma fila, que faz parte da abordagem do problema 3.<br>\n",
    "Complexidade quadrática, mas como o conceito de subcaminho p precisa ser aplicado, não será problema."
   ]
  },
  {
   "cell_type": "markdown",
   "metadata": {},
   "source": [
    "## <center>2. Bin Packing Problem - ADN"
   ]
  },
  {
   "cell_type": "markdown",
   "metadata": {},
   "source": [
    "### Contexto\n",
    "\n",
    "Objetos de diferentes volumes devem ser empacotados em um número finito de containers.<br>\n",
    "Este é realmente um problema extremamente complexo apenas se tratando das cominações possíveis.<br>\n",
    "Obter o número ótimo como decisor do problema, é um problema sem solução em tempo polinomial.\n",
    "\n",
    "Para este tipo de problema, a capacidade máxima e os volumes para cada objeto são os parâmetros relevantes.<br>\n",
    "Sabendo o quanto é a capacidade máxima de cada container e o volume de cada objeto, temos condições satisfeitas para desenvolver o problema."
   ]
  },
  {
   "cell_type": "markdown",
   "metadata": {},
   "source": [
    "### Pré Aplicação\n",
    "\n",
    "#### 1. Capacidade Máxima e Pesos\n",
    "\n",
    "O conceito aqui será aplicado para equipamentos de InfraTI.<br>\n",
    "Cada servidor terá sua capacidade máxima (virtuais e físicos) como cada servidor terá seu peso.<br>\n",
    "São parâmetros <b>diferentes</b>.\n",
    "\n",
    "> <b>Capacidade Máxima:</b> aqui falamos de armazenamento e processamento, como coisas distintas mas mutuamente limitantes.<br>\n",
    "                   >>Ao atingirmos a capacidade máxima de armazenamento ou processamento, atingimos o critério de parada. Conceito \"OR\".\n",
    "\n",
    "> <b>Peso:</b> é os valores de capacidades atuais atribuídas a cada equipamento.\n",
    "\n",
    "#### 2. Medição\n",
    "\n",
    "É necessário obter a medição da Capacidade Máxima e Peso de cada equipamento de TI.\n",
    "\n",
    "#### 3. Restrições\n",
    "\n",
    "Precisam ser melhores discutidas com capacity.\n",
    "\n",
    "#### 4. Base de Dados\n",
    "\n",
    "Por se tratar de um problema não integrado ao problema 1, a base de dados gerada para a otimização via <i>bin packing problem</i> pode ser independente.\n",
    "\n",
    "### Aplicação\n",
    "\n",
    "O objetivo é diminuir a osiciosidade dos equipamentos de TI.<br>\n",
    "Esse tipo de abordagem permite que equipamentos totalmente osciosos e livres de demanda, sejam desativados.\n",
    "\n",
    "O algoritmo para solução deste problema precisa ser melhor analisado.<br>\n",
    "Para maioria dos casos na literatura, uma heurística de aproximação traz conclusões suficientemente boas em comparação com algoritmos mais complexos.<br>\n",
    "O ganho de atribuir complexidade a heurística não é diretamente proporcional ao resultado que um greedy pode indicar.\n",
    "\n",
    "Diferente do problema 1, a condição de escolha aqui é oportunidade.<br>\n",
    "Ou seja, o objeto livre de demanda através da otimização do <i>bin packing problem</i> pode ou não ter critério de ordenamento para desligar.<br>\n",
    "Em todo caso, pode ser gerado uma fila semelhante ao problema 1, e decidir conforme problema 3."
   ]
  },
  {
   "cell_type": "markdown",
   "metadata": {},
   "source": [
    "## <center>3. Problema de Fila"
   ]
  },
  {
   "cell_type": "markdown",
   "metadata": {},
   "source": [
    "Sem muitos segredos. Após disponibilização dos equipamentos pra desligar, mediante os problemas anteriores, realizar ordenação.<br>\n",
    "Essa ordenação é bem simples e pode obdecer as regras do negócio.\n",
    "\n",
    "1. Ordenar por valor econômico do equipamento.\n",
    "2. Ordenar por localização.\n",
    "\n",
    "Essa fila ordenada precisará ser gerenciada, de forma a garantir sempre a redução da mesma.<br>\n",
    "Qualquer algoritmo de minimização de filas simples pode tratar deste problema."
   ]
  },
  {
   "cell_type": "code",
   "execution_count": null,
   "metadata": {},
   "outputs": [],
   "source": []
  }
 ],
 "metadata": {
  "kernelspec": {
   "display_name": "Python 3",
   "language": "python",
   "name": "python3"
  },
  "language_info": {
   "codemirror_mode": {
    "name": "ipython",
    "version": 3
   },
   "file_extension": ".py",
   "mimetype": "text/x-python",
   "name": "python",
   "nbconvert_exporter": "python",
   "pygments_lexer": "ipython3",
   "version": "3.8.5"
  }
 },
 "nbformat": 4,
 "nbformat_minor": 4
}
